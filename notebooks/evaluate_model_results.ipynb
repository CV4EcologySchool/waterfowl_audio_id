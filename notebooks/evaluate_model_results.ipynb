{
 "cells": [
  {
   "cell_type": "code",
   "execution_count": null,
   "metadata": {},
   "outputs": [],
   "source": [
    "# Load model\n",
    "model = load_model('/home/Brett/waterfowl_audio_id/nocowild_multi_class_train_20250116_after_filter_empty_class_40_epoch/best.model')\n",
    "\n",
    "# Now that I've loaded the best model, let's predict validation samples so I can visualize scores\n",
    "\n",
    "scores = model.predict(validation_df)\n",
    "scores"
   ]
  },
  {
   "cell_type": "code",
   "execution_count": null,
   "metadata": {},
   "outputs": [],
   "source": [
    "scores.idxmax(axis=1).value_counts()\n",
    "score_copy = scores.copy()\n",
    "score_copy[\"top_id\"] = scores.idxmax(axis=1)"
   ]
  },
  {
   "cell_type": "code",
   "execution_count": null,
   "metadata": {},
   "outputs": [],
   "source": [
    "target_class = \"branta_canadensis\"\n",
    "ground_truth_target_df = train_df[train_df[target_class]]\n",
    "#print(ground_truth_cg_df.head())\n",
    "ground_truth_target_df.index\n",
    "#ground_truth_cg_df.join(score_copy)\n",
    "\n",
    "merged_df = pd.merge(ground_truth_target_df, score_copy[[\"top_id\"]], left_index=True, right_index=True)\n",
    "print(len(merged_df))\n",
    "print(len(merged_df[merged_df[\"top_id\"]==target_class]))"
   ]
  },
  {
   "cell_type": "code",
   "execution_count": null,
   "metadata": {},
   "outputs": [],
   "source": [
    "# I want to visualize\n",
    "for label in class_list:\n",
    "# label = \"cygnus_buccinator\"\n",
    "    ax = sns.histplot(x=scores[label])\n",
    "    plt.savefig(\n",
    "        f\"/home/Brett/waterfowl_audio_id/{label}_validation_scores_histogram.png\", bbox_inches=\"tight\", dpi=800\n",
    "    )\n",
    "    plt.close()"
   ]
  },
  {
   "cell_type": "code",
   "execution_count": null,
   "metadata": {},
   "outputs": [],
   "source": [
    "# from opensoundscape.metrics import predict_multi_target_labels\n",
    "# predicted_labels = predict_multi_target_labels(scores)\n",
    "# predicted_labels.head()"
   ]
  }
 ],
 "metadata": {
  "language_info": {
   "name": "python"
  }
 },
 "nbformat": 4,
 "nbformat_minor": 2
}
